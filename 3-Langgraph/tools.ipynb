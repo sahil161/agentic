{
 "cells": [
  {
   "cell_type": "code",
   "execution_count": 1,
   "id": "4341d919",
   "metadata": {},
   "outputs": [],
   "source": [
    "from langchain_community.tools import WikipediaQueryRun"
   ]
  },
  {
   "cell_type": "code",
   "execution_count": 2,
   "id": "3c7f01e1",
   "metadata": {},
   "outputs": [],
   "source": [
    "from langchain_community.utilities import WikipediaAPIWrapper"
   ]
  },
  {
   "cell_type": "code",
   "execution_count": 3,
   "id": "2fdd72bc",
   "metadata": {},
   "outputs": [],
   "source": [
    "api_wrapper=WikipediaAPIWrapper(top_k_results=5,doc_content_chars_max= 500)"
   ]
  },
  {
   "cell_type": "code",
   "execution_count": 4,
   "id": "694ea1a8",
   "metadata": {},
   "outputs": [],
   "source": [
    "wiki_tool=WikipediaQueryRun(api_wrapper=api_wrapper)"
   ]
  },
  {
   "cell_type": "code",
   "execution_count": 5,
   "id": "8a450b4b",
   "metadata": {},
   "outputs": [
    {
     "data": {
      "text/plain": [
       "'wikipedia'"
      ]
     },
     "execution_count": 5,
     "metadata": {},
     "output_type": "execute_result"
    }
   ],
   "source": [
    "wiki_tool.name"
   ]
  },
  {
   "cell_type": "code",
   "execution_count": 6,
   "id": "0f46f450",
   "metadata": {},
   "outputs": [
    {
     "data": {
      "text/plain": [
       "'A wrapper around Wikipedia. Useful for when you need to answer general questions about people, places, companies, facts, historical events, or other subjects. Input should be a search query.'"
      ]
     },
     "execution_count": 6,
     "metadata": {},
     "output_type": "execute_result"
    }
   ],
   "source": [
    "wiki_tool.description"
   ]
  },
  {
   "cell_type": "code",
   "execution_count": 7,
   "id": "0aa4502c",
   "metadata": {},
   "outputs": [
    {
     "data": {
      "text/plain": [
       "{'query': {'description': 'query to look up on wikipedia',\n",
       "  'title': 'Query',\n",
       "  'type': 'string'}}"
      ]
     },
     "execution_count": 7,
     "metadata": {},
     "output_type": "execute_result"
    }
   ],
   "source": [
    "wiki_tool.args"
   ]
  },
  {
   "cell_type": "code",
   "execution_count": 8,
   "id": "99477475",
   "metadata": {},
   "outputs": [
    {
     "data": {
      "text/plain": [
       "'Page: Elon Musk\\nSummary: Elon Reeve Musk  ( EE-lon; born June 28, 1971) is an international businessman and entrepreneur known for his leadership of Tesla, SpaceX, X (formerly Twitter), and the Department of Government Efficiency (DOGE). Musk has been the wealthiest person in the world since 2021; as of May 2025, Forbes estimates his net worth to be US$424.7 billion.\\nBorn to a wealthy family in Pretoria, South Africa, Musk emigrated in 1989 to Canada; he had obtained Canadian citizenship at birt'"
      ]
     },
     "execution_count": 8,
     "metadata": {},
     "output_type": "execute_result"
    }
   ],
   "source": [
    "wiki_tool.run({\"query\":\"elon musk\"})"
   ]
  },
  {
   "cell_type": "code",
   "execution_count": 9,
   "id": "bf3a63ed",
   "metadata": {},
   "outputs": [
    {
     "name": "stderr",
     "output_type": "stream",
     "text": [
      "/opt/miniconda3/envs/test/lib/python3.13/site-packages/wikipedia/wikipedia.py:389: GuessedAtParserWarning: No parser was explicitly specified, so I'm using the best available HTML parser for this system (\"lxml\"). This usually isn't a problem, but if you run this code on another system, or in a different virtual environment, it may use a different parser and behave differently.\n",
      "\n",
      "The code that caused this warning is on line 389 of the file /opt/miniconda3/envs/test/lib/python3.13/site-packages/wikipedia/wikipedia.py. To get rid of this warning, pass the additional argument 'features=\"lxml\"' to the BeautifulSoup constructor.\n",
      "\n",
      "  lis = BeautifulSoup(html).find_all('li')\n"
     ]
    },
    {
     "data": {
      "text/plain": [
       "\"Page: Royal Challengers Bengaluru\\nSummary: Royal Challengers Bengaluru, formerly Royal Challengers Bangalore, also known as RCB, are a professional Twenty20 cricket team based in Bengaluru, Karnataka, that competes in the Indian Premier League (IPL). Founded in 2008 by United Spirits, the team's home ground is M. Chinnaswamy Stadium. They won their first title in 2025. The team finished as the runners-up on three occasions: in 2009, 2011, and 2016. They have also qualified for the playoffs in te\""
      ]
     },
     "execution_count": 9,
     "metadata": {},
     "output_type": "execute_result"
    }
   ],
   "source": [
    "wiki_tool.run(\"RCB\")"
   ]
  },
  {
   "cell_type": "code",
   "execution_count": 10,
   "id": "a79c6cc6",
   "metadata": {},
   "outputs": [],
   "source": [
    "from langchain_community.tools import YouTubeSearchTool"
   ]
  },
  {
   "cell_type": "code",
   "execution_count": 11,
   "id": "c35d1810",
   "metadata": {},
   "outputs": [],
   "source": [
    "tool=YouTubeSearchTool()"
   ]
  },
  {
   "cell_type": "code",
   "execution_count": 12,
   "id": "3dfe8f0e",
   "metadata": {},
   "outputs": [
    {
     "data": {
      "text/plain": [
       "'youtube_search'"
      ]
     },
     "execution_count": 12,
     "metadata": {},
     "output_type": "execute_result"
    }
   ],
   "source": [
    "tool.name"
   ]
  },
  {
   "cell_type": "code",
   "execution_count": 13,
   "id": "31dd4376",
   "metadata": {},
   "outputs": [
    {
     "data": {
      "text/plain": [
       "'search for youtube videos associated with a person. the input to this tool should be a comma separated list, the first part contains a person name and the second a number that is the maximum number of video results to return aka num_results. the second part is optional'"
      ]
     },
     "execution_count": 13,
     "metadata": {},
     "output_type": "execute_result"
    }
   ],
   "source": [
    "tool.description"
   ]
  },
  {
   "cell_type": "code",
   "execution_count": 14,
   "id": "ed05eed1",
   "metadata": {},
   "outputs": [
    {
     "data": {
      "text/plain": [
       "\"['https://www.youtube.com/watch?v=V9tJCQoBakA&pp=ygUMc3Vubnkgc2F2aXRh0gcJCbIJAYcqIYzv', 'https://www.youtube.com/watch?v=_kpxLkH5vY0&pp=ygUMc3Vubnkgc2F2aXRh']\""
      ]
     },
     "execution_count": 14,
     "metadata": {},
     "output_type": "execute_result"
    }
   ],
   "source": [
    "tool.run(\"sunny savita\")"
   ]
  },
  {
   "cell_type": "code",
   "execution_count": 15,
   "id": "7ab2dde0",
   "metadata": {},
   "outputs": [
    {
     "data": {
      "text/plain": [
       "\"['https://www.youtube.com/watch?v=JxgmHe2NyeY&pp=ygUKa3Jpc2ggbmFpaw%3D%3D', 'https://www.youtube.com/watch?v=r0q1n8BJ0QI&pp=ygUKa3Jpc2ggbmFpa9IHCQmyCQGHKiGM7w%3D%3D']\""
      ]
     },
     "execution_count": 15,
     "metadata": {},
     "output_type": "execute_result"
    }
   ],
   "source": [
    "tool.run(\"krish naik\")"
   ]
  },
  {
   "cell_type": "code",
   "execution_count": 1,
   "id": "e860b3de",
   "metadata": {},
   "outputs": [],
   "source": [
    "from langchain_community.tools.tavily_search import TavilySearchResults"
   ]
  },
  {
   "cell_type": "code",
   "execution_count": 2,
   "id": "aa010fbf",
   "metadata": {},
   "outputs": [],
   "source": [
    "import os\n",
    "\n",
    "TAVILY_API_KEY=os.getenv(\"TAVILY_API_KEY\")"
   ]
  },
  {
   "cell_type": "code",
   "execution_count": 3,
   "id": "f745e41b",
   "metadata": {},
   "outputs": [],
   "source": [
    "tool=TavilySearchResults(tavily_api_key=TAVILY_API_KEY)"
   ]
  },
  {
   "cell_type": "code",
   "execution_count": 4,
   "id": "42cf9b63",
   "metadata": {},
   "outputs": [
    {
     "data": {
      "text/plain": [
       "[{'title': 'From cheers to tears: Stampede at RCB victory celebration kills 11',\n",
       "  'url': 'https://m.economictimes.com/news/bengaluru-news/from-cheers-to-tears-stampede-at-rcb-victory-celebration-kills-11/articleshow/121630702.cms',\n",
       "  'content': \"Royal Challengers Bangalore's IPL victory celebrations event on Wednesday turned into a tragedy with at least 11 people losing their lives and about 47 others suffering injuries in a stampede outside the Chinnaswamy Stadium in Bengaluru.  \\n  \\nHundreds of thousands of people gathered outside the stadium as well as near the Vidhana Soudha where Karnataka chief minister Siddaramaiah felicitated the RCB stars. [...] Tragedy struck Bengaluru during Royal Challengers Bangalore's IPL victory celebrations as a stampede outside Chinnaswamy Stadium resulted in 11 fatalities and numerous injuries. Despite precautions, massive crowds overwhelmed the stadium, leading to the unfortunate incident. The Chief Minister has ordered a probe and announced compensation for the victims' families, expressing sorrow over the event. [...] While the event on the steps of Vidhana Soudha, the legislature building, went off peacefully, police could not control the swelling crowds seeking an entry into the stadium, the venue for a public reception for the team organised by the Karnataka State Cricket Association.  \\n  \\nEyewitnesses said it was free for all as crowds surged in massive numbers on roads leading to the stadium gates, causing stampedes at several places.\",\n",
       "  'score': 0.8539252},\n",
       " {'title': \"Several Killed as RCB's Victory Celebration Turns Deadly - YouTube\",\n",
       "  'url': 'https://www.youtube.com/watch?v=gz8chxY7elU',\n",
       "  'content': \"At least 11 people were killed and 30 injured in a stampede outside the Chinnaswamy cricket stadium in Bengaluru. The incident happened during the Royal Challengers' victory celebrations after their first IPL triumph in 18 years. Did the state government underestimate the rush? Were crowd control measures not in place? Palki Sharma tells you. [...] It was supposed to be a day of pure joy, of celebration and pride. Instead, Bengaluru is in shock today. I'm sure you've seen the news and the pictures. Bengaluru was all decked up for a massive celebration today. Their IPL team had finally won the tournament. The Royal Challengers beat Punjab Kings yesterday. It was their first IPL trophy in 18 years. Now the RCB fans are a very passionate lot. Plus they've been waiting for a win since 2008. So they packed the streets of Bengaluru in [...] soon the fan frenzy turned fatal. The exact details are not clear yet but reports say the rush led to a stampede. At least 11 people were killed, including children, and more than 30 were injured. Like I said, the exact sequence of events is unclear, but these pictures give you an idea. Uh you can see fans climbing up fences and trees. In some places, the police pushed back with force. We will show you the pictures, but as always, viewer discretion is advised. [Applause] [Music] [Applause] Such\",\n",
       "  'score': 0.838376},\n",
       " {'title': \"How did celebration of RCB's historic win in IPL spiral into chaos ...\",\n",
       "  'url': 'https://www.thehindu.com/news/national/karnataka/how-did-celebration-of-rcbs-historic-win-in-ipl-spiral-into-chaos-and-crisis-explained/article69668074.ece',\n",
       "  'content': 'August 28, 2025e-Paper\\n\\nAccount\\n\\neBooksSubscribeGIFT FRONT PAGE\\n\\n# How did celebration of RCB’s historic win in IPL spiral into chaos and crisis? | Explained\\n\\n## A stampede during RCB’s victory celebrations in Bengaluru on June 4 claimed 11 lives and left several others with injuries, turning a moment of triumph into tragedy. Facing a backlash for mismanagement and hurried planning, the Congress government in Karnataka suspended top police officials\\n\\nPublished - June 07, 2025 04:45 pm IST [...] Though a judicial probe and a Special Investigation Team (SIT) probe have been ordered, serious concerns remain about what exactly led to the deadly chaos and whether it could have been prevented.\\n\\n#### What went wrong during RCB’s victory celebrations?\\n\\nA day after RCB’s triumph on June 3, lakhs of fans thronged the M. Chinnaswamy Stadium and also the Vidhana Soudha where the government of Karnataka had organised a separate felicitation event for the RCB team. [...] The situation spiralled out of control when fans, eager to be part of the celebration, rushed to the already packed stadium gates, demanding entry. Overwhelmed by the sheer volume, police personnel struggled to manage the crowd. Chaos broke out as fans jumped barricades, trampled one another, and triggered a deadly stampede, according to police.\\n\\nAs the tragedy unfolded outside, the event inside the stadium was hastily scaled down and brought to an early close.',\n",
       "  'score': 0.8315952},\n",
       " {'title': \"RCB's victory celebration turns fatal; 11 fans dead in Bengaluru ...\",\n",
       "  'url': 'https://www.youtube.com/watch?v=V33zuNSRK14',\n",
       "  'content': '# RCB’s victory celebration turns fatal; 11 fans dead in Bengaluru stampede\\n## The New Indian Express\\n363000 subscribers\\n321 likes\\n\\n### Description\\n76226 views\\nPosted: 4 Jun 2025\\n#stampede #rcb #bengaluru #chinnaswamystadium \\n\\nThe victory celebrations of Royal Challengers Bengaluru fans turned tragic as more than 11 people including a woman and a boy died in a stampede outside the Chinnaswamy Stadium on Wednesday afternoon. \\n\\nAlso read: [...] We are active on social media! Follow us:\\nFacebook:  \\nTwitter: \\nAPP: \\n\\nStay updated with our Apps: \\nFor Android users: \\niOS users: \\n\\nFor more videos: \\nFor all the important news: \\n\\n121 comments\\n### Transcript:',\n",
       "  'score': 0.8252664},\n",
       " {'title': 'The Virat Kohli IPL Video By RCB That Got Slammed For Stampede ...',\n",
       "  'url': 'https://sports.ndtv.com/ipl-2025/4-rcb-ipl-victory-posts-including-a-virat-kohli-video-that-got-slammed-for-stampede-which-claimed-11-lives-8894147',\n",
       "  'content': \"On June 4, eleven people died and more than 30 were injured in a stampede outside Bengaluru's M Chinnaswamy stadium as a huge crowd of nearly 3 lakh people had gathered to witness the victory celebration of Royal Challengers Bengaluru for winning the Indian Premier League (IPL).  \\nFollowing the incident, the Karnataka government suspended top police officials at the Cubbon Park Police Station on June 5 and formed a one-man commission under a retired High Court Judge to probe the incident. [...] 04.06.2025, at 8:55 am, the RCB shared a video clip of Virat Kohli, on RCB's official handle @rcbtweets on X, in which he stated that the team intended to celebrate this victory with the people of Bengaluru city and RCB fans on 04.06.2025 in Bengaluru. Thereafter, RCB made one more post at 3:14 p.m. on 04.06.2024, announcing a Victory Parade to be held from Vidhana Soudha to Chinnaswamy Stadium from 5 00 PM to 6 00 PM, stating that this victory parade would be followed by celebrations at [...] # The Virat Kohli IPL Video By RCB That Got Slammed For Stampede At Victory Celebration. Watch\\n\\n## On June 4, RCB shared open invitations on social media, including a video appeal by Virat Kohli, encouraging fans to attend the free-entry celebration\\n\\n Asian News International\\n Updated: July 17, 2025 06:04 pm IST\\n\\nRead Time: 4 min\\n\\nfacebook;)\\ntwitter;)\\nWhatsApp;)\\nreddit;)\\n\\nE-mail\\n\\nVirat Kohli was present at RCB IPL 2025 victory celebration at M Chinnaswamy Stadium.© AFP\",\n",
       "  'score': 0.8055255}]"
      ]
     },
     "execution_count": 4,
     "metadata": {},
     "output_type": "execute_result"
    }
   ],
   "source": [
    "tool.invoke({\"query\":\"what happend in RCB victory celebration?\"})"
   ]
  },
  {
   "cell_type": "code",
   "execution_count": null,
   "id": "377e6c26",
   "metadata": {},
   "outputs": [
    {
     "name": "stdout",
     "output_type": "stream",
     "text": [
      "Collecting youtube-search-python\n",
      "  Downloading youtube_search_python-1.6.6-py3-none-any.whl.metadata (99 kB)\n",
      "Requirement already satisfied: httpx>=0.14.2 in /opt/miniconda3/envs/test/lib/python3.13/site-packages (from youtube-search-python) (0.28.1)\n",
      "Requirement already satisfied: anyio in /opt/miniconda3/envs/test/lib/python3.13/site-packages (from httpx>=0.14.2->youtube-search-python) (4.9.0)\n",
      "Requirement already satisfied: certifi in /opt/miniconda3/envs/test/lib/python3.13/site-packages (from httpx>=0.14.2->youtube-search-python) (2025.4.26)\n",
      "Requirement already satisfied: httpcore==1.* in /opt/miniconda3/envs/test/lib/python3.13/site-packages (from httpx>=0.14.2->youtube-search-python) (1.0.9)\n",
      "Requirement already satisfied: idna in /opt/miniconda3/envs/test/lib/python3.13/site-packages (from httpx>=0.14.2->youtube-search-python) (3.10)\n",
      "Requirement already satisfied: h11>=0.16 in /opt/miniconda3/envs/test/lib/python3.13/site-packages (from httpcore==1.*->httpx>=0.14.2->youtube-search-python) (0.16.0)\n",
      "Requirement already satisfied: sniffio>=1.1 in /opt/miniconda3/envs/test/lib/python3.13/site-packages (from anyio->httpx>=0.14.2->youtube-search-python) (1.3.1)\n",
      "Downloading youtube_search_python-1.6.6-py3-none-any.whl (89 kB)\n",
      "Installing collected packages: youtube-search-python\n",
      "Successfully installed youtube-search-python-1.6.6\n",
      "Requirement already satisfied: youtube-search in /opt/miniconda3/envs/test/lib/python3.13/site-packages (2.1.2)\n",
      "Requirement already satisfied: requests in /opt/miniconda3/envs/test/lib/python3.13/site-packages (from youtube-search) (2.32.3)\n",
      "Requirement already satisfied: charset-normalizer<4,>=2 in /opt/miniconda3/envs/test/lib/python3.13/site-packages (from requests->youtube-search) (3.4.2)\n",
      "Requirement already satisfied: idna<4,>=2.5 in /opt/miniconda3/envs/test/lib/python3.13/site-packages (from requests->youtube-search) (3.10)\n",
      "Requirement already satisfied: urllib3<3,>=1.21.1 in /opt/miniconda3/envs/test/lib/python3.13/site-packages (from requests->youtube-search) (2.4.0)\n",
      "Requirement already satisfied: certifi>=2017.4.17 in /opt/miniconda3/envs/test/lib/python3.13/site-packages (from requests->youtube-search) (2025.4.26)\n"
     ]
    }
   ],
   "source": [
    "# ! pip install youtube-search-python\n",
    "# ! pip install youtube-search\n"
   ]
  },
  {
   "cell_type": "markdown",
   "id": "c1e3cd34",
   "metadata": {},
   "source": [
    "## Custom_tool"
   ]
  },
  {
   "cell_type": "code",
   "execution_count": 6,
   "id": "0058a3af",
   "metadata": {},
   "outputs": [],
   "source": [
    "def multiply(a:int,b:int)->int:\n",
    "    return a*b"
   ]
  },
  {
   "cell_type": "code",
   "execution_count": 7,
   "id": "2fd727eb",
   "metadata": {},
   "outputs": [
    {
     "data": {
      "text/plain": [
       "200"
      ]
     },
     "execution_count": 7,
     "metadata": {},
     "output_type": "execute_result"
    }
   ],
   "source": [
    "multiply(10,20)"
   ]
  },
  {
   "cell_type": "code",
   "execution_count": 14,
   "id": "913cc79c",
   "metadata": {},
   "outputs": [
    {
     "ename": "ValidationError",
     "evalue": "1 validation error for multiply\n  Input should be a valid dictionary or instance of multiply [type=model_type, input_value=10, input_type=int]\n    For further information visit https://errors.pydantic.dev/2.11/v/model_type",
     "output_type": "error",
     "traceback": [
      "\u001b[31m---------------------------------------------------------------------------\u001b[39m",
      "\u001b[31mValidationError\u001b[39m                           Traceback (most recent call last)",
      "\u001b[36mCell\u001b[39m\u001b[36m \u001b[39m\u001b[32mIn[14]\u001b[39m\u001b[32m, line 1\u001b[39m\n\u001b[32m----> \u001b[39m\u001b[32m1\u001b[39m \u001b[43mmultiply\u001b[49m\u001b[43m.\u001b[49m\u001b[43mrun\u001b[49m\u001b[43m(\u001b[49m\u001b[32;43m10\u001b[39;49m\u001b[43m,\u001b[49m\u001b[32;43m20\u001b[39;49m\u001b[43m)\u001b[49m\n",
      "\u001b[36mFile \u001b[39m\u001b[32m/opt/miniconda3/envs/test/lib/python3.13/site-packages/langchain_core/tools/base.py:888\u001b[39m, in \u001b[36mBaseTool.run\u001b[39m\u001b[34m(self, tool_input, verbose, start_color, color, callbacks, tags, metadata, run_name, run_id, config, tool_call_id, **kwargs)\u001b[39m\n\u001b[32m    886\u001b[39m \u001b[38;5;28;01mif\u001b[39;00m error_to_raise:\n\u001b[32m    887\u001b[39m     run_manager.on_tool_error(error_to_raise)\n\u001b[32m--> \u001b[39m\u001b[32m888\u001b[39m     \u001b[38;5;28;01mraise\u001b[39;00m error_to_raise\n\u001b[32m    889\u001b[39m output = _format_output(content, artifact, tool_call_id, \u001b[38;5;28mself\u001b[39m.name, status)\n\u001b[32m    890\u001b[39m run_manager.on_tool_end(output, color=color, name=\u001b[38;5;28mself\u001b[39m.name, **kwargs)\n",
      "\u001b[36mFile \u001b[39m\u001b[32m/opt/miniconda3/envs/test/lib/python3.13/site-packages/langchain_core/tools/base.py:850\u001b[39m, in \u001b[36mBaseTool.run\u001b[39m\u001b[34m(self, tool_input, verbose, start_color, color, callbacks, tags, metadata, run_name, run_id, config, tool_call_id, **kwargs)\u001b[39m\n\u001b[32m    848\u001b[39m child_config = patch_config(config, callbacks=run_manager.get_child())\n\u001b[32m    849\u001b[39m \u001b[38;5;28;01mwith\u001b[39;00m set_config_context(child_config) \u001b[38;5;28;01mas\u001b[39;00m context:\n\u001b[32m--> \u001b[39m\u001b[32m850\u001b[39m     tool_args, tool_kwargs = \u001b[38;5;28;43mself\u001b[39;49m\u001b[43m.\u001b[49m\u001b[43m_to_args_and_kwargs\u001b[49m\u001b[43m(\u001b[49m\n\u001b[32m    851\u001b[39m \u001b[43m        \u001b[49m\u001b[43mtool_input\u001b[49m\u001b[43m,\u001b[49m\u001b[43m \u001b[49m\u001b[43mtool_call_id\u001b[49m\n\u001b[32m    852\u001b[39m \u001b[43m    \u001b[49m\u001b[43m)\u001b[49m\n\u001b[32m    853\u001b[39m     \u001b[38;5;28;01mif\u001b[39;00m signature(\u001b[38;5;28mself\u001b[39m._run).parameters.get(\u001b[33m\"\u001b[39m\u001b[33mrun_manager\u001b[39m\u001b[33m\"\u001b[39m):\n\u001b[32m    854\u001b[39m         tool_kwargs |= {\u001b[33m\"\u001b[39m\u001b[33mrun_manager\u001b[39m\u001b[33m\"\u001b[39m: run_manager}\n",
      "\u001b[36mFile \u001b[39m\u001b[32m/opt/miniconda3/envs/test/lib/python3.13/site-packages/langchain_core/tools/base.py:765\u001b[39m, in \u001b[36mBaseTool._to_args_and_kwargs\u001b[39m\u001b[34m(self, tool_input, tool_call_id)\u001b[39m\n\u001b[32m    757\u001b[39m \u001b[38;5;28;01mif\u001b[39;00m (\n\u001b[32m    758\u001b[39m     \u001b[38;5;28mself\u001b[39m.args_schema \u001b[38;5;129;01mis\u001b[39;00m \u001b[38;5;129;01mnot\u001b[39;00m \u001b[38;5;28;01mNone\u001b[39;00m\n\u001b[32m    759\u001b[39m     \u001b[38;5;129;01mand\u001b[39;00m \u001b[38;5;28misinstance\u001b[39m(\u001b[38;5;28mself\u001b[39m.args_schema, \u001b[38;5;28mtype\u001b[39m)\n\u001b[32m   (...)\u001b[39m\u001b[32m    762\u001b[39m ):\n\u001b[32m    763\u001b[39m     \u001b[38;5;66;03m# StructuredTool with no args\u001b[39;00m\n\u001b[32m    764\u001b[39m     \u001b[38;5;28;01mreturn\u001b[39;00m (), {}\n\u001b[32m--> \u001b[39m\u001b[32m765\u001b[39m tool_input = \u001b[38;5;28;43mself\u001b[39;49m\u001b[43m.\u001b[49m\u001b[43m_parse_input\u001b[49m\u001b[43m(\u001b[49m\u001b[43mtool_input\u001b[49m\u001b[43m,\u001b[49m\u001b[43m \u001b[49m\u001b[43mtool_call_id\u001b[49m\u001b[43m)\u001b[49m\n\u001b[32m    766\u001b[39m \u001b[38;5;66;03m# For backwards compatibility, if run_input is a string,\u001b[39;00m\n\u001b[32m    767\u001b[39m \u001b[38;5;66;03m# pass as a positional argument.\u001b[39;00m\n\u001b[32m    768\u001b[39m \u001b[38;5;28;01mif\u001b[39;00m \u001b[38;5;28misinstance\u001b[39m(tool_input, \u001b[38;5;28mstr\u001b[39m):\n",
      "\u001b[36mFile \u001b[39m\u001b[32m/opt/miniconda3/envs/test/lib/python3.13/site-packages/langchain_core/tools/base.py:672\u001b[39m, in \u001b[36mBaseTool._parse_input\u001b[39m\u001b[34m(self, tool_input, tool_call_id)\u001b[39m\n\u001b[32m    670\u001b[39m                 \u001b[38;5;28;01mraise\u001b[39;00m \u001b[38;5;167;01mValueError\u001b[39;00m(msg)\n\u001b[32m    671\u001b[39m             tool_input[k] = tool_call_id\n\u001b[32m--> \u001b[39m\u001b[32m672\u001b[39m     result = \u001b[43minput_args\u001b[49m\u001b[43m.\u001b[49m\u001b[43mmodel_validate\u001b[49m\u001b[43m(\u001b[49m\u001b[43mtool_input\u001b[49m\u001b[43m)\u001b[49m\n\u001b[32m    673\u001b[39m     result_dict = result.model_dump()\n\u001b[32m    674\u001b[39m \u001b[38;5;28;01melif\u001b[39;00m \u001b[38;5;28missubclass\u001b[39m(input_args, BaseModelV1):\n",
      "\u001b[36mFile \u001b[39m\u001b[32m/opt/miniconda3/envs/test/lib/python3.13/site-packages/pydantic/main.py:703\u001b[39m, in \u001b[36mBaseModel.model_validate\u001b[39m\u001b[34m(cls, obj, strict, from_attributes, context, by_alias, by_name)\u001b[39m\n\u001b[32m    697\u001b[39m \u001b[38;5;28;01mif\u001b[39;00m by_alias \u001b[38;5;129;01mis\u001b[39;00m \u001b[38;5;28;01mFalse\u001b[39;00m \u001b[38;5;129;01mand\u001b[39;00m by_name \u001b[38;5;129;01mis\u001b[39;00m \u001b[38;5;129;01mnot\u001b[39;00m \u001b[38;5;28;01mTrue\u001b[39;00m:\n\u001b[32m    698\u001b[39m     \u001b[38;5;28;01mraise\u001b[39;00m PydanticUserError(\n\u001b[32m    699\u001b[39m         \u001b[33m'\u001b[39m\u001b[33mAt least one of `by_alias` or `by_name` must be set to True.\u001b[39m\u001b[33m'\u001b[39m,\n\u001b[32m    700\u001b[39m         code=\u001b[33m'\u001b[39m\u001b[33mvalidate-by-alias-and-name-false\u001b[39m\u001b[33m'\u001b[39m,\n\u001b[32m    701\u001b[39m     )\n\u001b[32m--> \u001b[39m\u001b[32m703\u001b[39m \u001b[38;5;28;01mreturn\u001b[39;00m \u001b[38;5;28;43mcls\u001b[39;49m\u001b[43m.\u001b[49m\u001b[43m__pydantic_validator__\u001b[49m\u001b[43m.\u001b[49m\u001b[43mvalidate_python\u001b[49m\u001b[43m(\u001b[49m\n\u001b[32m    704\u001b[39m \u001b[43m    \u001b[49m\u001b[43mobj\u001b[49m\u001b[43m,\u001b[49m\u001b[43m \u001b[49m\u001b[43mstrict\u001b[49m\u001b[43m=\u001b[49m\u001b[43mstrict\u001b[49m\u001b[43m,\u001b[49m\u001b[43m \u001b[49m\u001b[43mfrom_attributes\u001b[49m\u001b[43m=\u001b[49m\u001b[43mfrom_attributes\u001b[49m\u001b[43m,\u001b[49m\u001b[43m \u001b[49m\u001b[43mcontext\u001b[49m\u001b[43m=\u001b[49m\u001b[43mcontext\u001b[49m\u001b[43m,\u001b[49m\u001b[43m \u001b[49m\u001b[43mby_alias\u001b[49m\u001b[43m=\u001b[49m\u001b[43mby_alias\u001b[49m\u001b[43m,\u001b[49m\u001b[43m \u001b[49m\u001b[43mby_name\u001b[49m\u001b[43m=\u001b[49m\u001b[43mby_name\u001b[49m\n\u001b[32m    705\u001b[39m \u001b[43m\u001b[49m\u001b[43m)\u001b[49m\n",
      "\u001b[31mValidationError\u001b[39m: 1 validation error for multiply\n  Input should be a valid dictionary or instance of multiply [type=model_type, input_value=10, input_type=int]\n    For further information visit https://errors.pydantic.dev/2.11/v/model_type"
     ]
    }
   ],
   "source": [
    "multiply.run(10,20)"
   ]
  },
  {
   "cell_type": "code",
   "execution_count": 9,
   "id": "c8864bb2",
   "metadata": {},
   "outputs": [
    {
     "ename": "AttributeError",
     "evalue": "'function' object has no attribute 'invoke'",
     "output_type": "error",
     "traceback": [
      "\u001b[31m---------------------------------------------------------------------------\u001b[39m",
      "\u001b[31mAttributeError\u001b[39m                            Traceback (most recent call last)",
      "\u001b[36mCell\u001b[39m\u001b[36m \u001b[39m\u001b[32mIn[9]\u001b[39m\u001b[32m, line 1\u001b[39m\n\u001b[32m----> \u001b[39m\u001b[32m1\u001b[39m \u001b[43mmultiply\u001b[49m\u001b[43m.\u001b[49m\u001b[43minvoke\u001b[49m(\u001b[32m10\u001b[39m,\u001b[32m20\u001b[39m)\n",
      "\u001b[31mAttributeError\u001b[39m: 'function' object has no attribute 'invoke'"
     ]
    }
   ],
   "source": [
    "multiply.invoke(10,20)"
   ]
  },
  {
   "cell_type": "code",
   "execution_count": 10,
   "id": "3a3665bc",
   "metadata": {},
   "outputs": [],
   "source": [
    "from langchain.agents import tool\n",
    "@tool\n",
    "def multiply(a:int,b:int)->int:\n",
    "    '''this tool is for the multiplication'''\n",
    "    return a*b"
   ]
  },
  {
   "cell_type": "code",
   "execution_count": 11,
   "id": "50306c92",
   "metadata": {},
   "outputs": [
    {
     "data": {
      "text/plain": [
       "200"
      ]
     },
     "execution_count": 11,
     "metadata": {},
     "output_type": "execute_result"
    }
   ],
   "source": [
    "multiply.invoke({\"a\":10,\"b\":20})"
   ]
  },
  {
   "cell_type": "code",
   "execution_count": 12,
   "id": "5ca800ff",
   "metadata": {},
   "outputs": [
    {
     "data": {
      "text/plain": [
       "'multiply'"
      ]
     },
     "execution_count": 12,
     "metadata": {},
     "output_type": "execute_result"
    }
   ],
   "source": [
    "multiply.name"
   ]
  },
  {
   "cell_type": "code",
   "execution_count": 13,
   "id": "8978a8c9",
   "metadata": {},
   "outputs": [
    {
     "data": {
      "text/plain": [
       "'this tool is for the multiplication'"
      ]
     },
     "execution_count": 13,
     "metadata": {},
     "output_type": "execute_result"
    }
   ],
   "source": [
    "multiply.description"
   ]
  },
  {
   "cell_type": "code",
   "execution_count": 15,
   "id": "6a41b532",
   "metadata": {},
   "outputs": [
    {
     "data": {
      "text/plain": [
       "{'a': {'title': 'A', 'type': 'integer'},\n",
       " 'b': {'title': 'B', 'type': 'integer'}}"
      ]
     },
     "execution_count": 15,
     "metadata": {},
     "output_type": "execute_result"
    }
   ],
   "source": [
    "multiply.args"
   ]
  },
  {
   "cell_type": "code",
   "execution_count": 16,
   "id": "6de152ea",
   "metadata": {},
   "outputs": [],
   "source": [
    "def get_word_length(word:str)->int:\n",
    "    return len(word)"
   ]
  },
  {
   "cell_type": "code",
   "execution_count": 19,
   "id": "a0fffdcf",
   "metadata": {},
   "outputs": [
    {
     "data": {
      "text/plain": [
       "10"
      ]
     },
     "execution_count": 19,
     "metadata": {},
     "output_type": "execute_result"
    }
   ],
   "source": [
    "get_word_length(\"sahil jain\")"
   ]
  },
  {
   "cell_type": "code",
   "execution_count": 20,
   "id": "6a65a42f",
   "metadata": {},
   "outputs": [
    {
     "data": {
      "text/plain": [
       "13"
      ]
     },
     "execution_count": 20,
     "metadata": {},
     "output_type": "execute_result"
    }
   ],
   "source": [
    "get_word_length(\"narendra modi\")"
   ]
  },
  {
   "cell_type": "code",
   "execution_count": 21,
   "id": "93dccd5e",
   "metadata": {},
   "outputs": [],
   "source": [
    "@tool\n",
    "def get_word_length(word:str)->int:\n",
    "    \"\"\"this funtion is calculating a length of the word\"\"\"\n",
    "    return len(word)"
   ]
  },
  {
   "cell_type": "code",
   "execution_count": 22,
   "id": "1292db4b",
   "metadata": {},
   "outputs": [
    {
     "data": {
      "text/plain": [
       "'get_word_length'"
      ]
     },
     "execution_count": 22,
     "metadata": {},
     "output_type": "execute_result"
    }
   ],
   "source": [
    "get_word_length.name"
   ]
  },
  {
   "cell_type": "code",
   "execution_count": 23,
   "id": "309a3ab7",
   "metadata": {},
   "outputs": [
    {
     "data": {
      "text/plain": [
       "'this funtion is calculating a length of the word'"
      ]
     },
     "execution_count": 23,
     "metadata": {},
     "output_type": "execute_result"
    }
   ],
   "source": [
    "get_word_length.description"
   ]
  },
  {
   "cell_type": "code",
   "execution_count": 24,
   "id": "375b13d8",
   "metadata": {},
   "outputs": [
    {
     "data": {
      "text/plain": [
       "{'word': {'title': 'Word', 'type': 'string'}}"
      ]
     },
     "execution_count": 24,
     "metadata": {},
     "output_type": "execute_result"
    }
   ],
   "source": [
    "get_word_length.args"
   ]
  },
  {
   "cell_type": "code",
   "execution_count": 25,
   "id": "fcdfeefe",
   "metadata": {},
   "outputs": [
    {
     "name": "stderr",
     "output_type": "stream",
     "text": [
      "/var/folders/dh/6kym10_j1sn5_405c08t9hlh0000gn/T/ipykernel_54234/1949096749.py:1: LangChainDeprecationWarning: The method `BaseTool.__call__` was deprecated in langchain-core 0.1.47 and will be removed in 1.0. Use :meth:`~invoke` instead.\n",
      "  get_word_length(\"sahil jain\")\n"
     ]
    },
    {
     "data": {
      "text/plain": [
       "10"
      ]
     },
     "execution_count": 25,
     "metadata": {},
     "output_type": "execute_result"
    }
   ],
   "source": [
    "get_word_length(\"sahil jain\")"
   ]
  },
  {
   "cell_type": "code",
   "execution_count": 27,
   "id": "da04955e",
   "metadata": {},
   "outputs": [
    {
     "data": {
      "text/plain": [
       "10"
      ]
     },
     "execution_count": 27,
     "metadata": {},
     "output_type": "execute_result"
    }
   ],
   "source": [
    "get_word_length.invoke(\"sahil jain\")"
   ]
  },
  {
   "cell_type": "code",
   "execution_count": 28,
   "id": "87bb9160",
   "metadata": {},
   "outputs": [],
   "source": [
    "@tool\n",
    "def call_gamil_api(args):\n",
    "    \"\"\"this is my gamil api calling funtion\"\"\"\n",
    "    pass"
   ]
  },
  {
   "cell_type": "code",
   "execution_count": 29,
   "id": "f9a65aaa",
   "metadata": {},
   "outputs": [
    {
     "ename": "ImportError",
     "evalue": "cannot import name 'JsonOutputParser' from 'langchain.output_parsers' (/opt/miniconda3/envs/test/lib/python3.13/site-packages/langchain/output_parsers/__init__.py)",
     "output_type": "error",
     "traceback": [
      "\u001b[31m---------------------------------------------------------------------------\u001b[39m",
      "\u001b[31mImportError\u001b[39m                               Traceback (most recent call last)",
      "\u001b[36mCell\u001b[39m\u001b[36m \u001b[39m\u001b[32mIn[29]\u001b[39m\u001b[32m, line 3\u001b[39m\n\u001b[32m      1\u001b[39m \u001b[38;5;66;03m#from langchain_groq import ChatGroq\u001b[39;00m\n\u001b[32m      2\u001b[39m \u001b[38;5;28;01mfrom\u001b[39;00m\u001b[38;5;250m \u001b[39m\u001b[34;01mlangchain_core\u001b[39;00m\u001b[34;01m.\u001b[39;00m\u001b[34;01mprompts\u001b[39;00m\u001b[38;5;250m \u001b[39m\u001b[38;5;28;01mimport\u001b[39;00m ChatPromptTemplate\n\u001b[32m----> \u001b[39m\u001b[32m3\u001b[39m \u001b[38;5;28;01mfrom\u001b[39;00m\u001b[38;5;250m \u001b[39m\u001b[34;01mlangchain\u001b[39;00m\u001b[34;01m.\u001b[39;00m\u001b[34;01moutput_parsers\u001b[39;00m\u001b[38;5;250m \u001b[39m\u001b[38;5;28;01mimport\u001b[39;00m JsonOutputParser\n\u001b[32m      4\u001b[39m \u001b[38;5;28;01mfrom\u001b[39;00m\u001b[38;5;250m \u001b[39m\u001b[34;01mpydantic\u001b[39;00m\u001b[38;5;250m \u001b[39m\u001b[38;5;28;01mimport\u001b[39;00m BaseModel, Field\n",
      "\u001b[31mImportError\u001b[39m: cannot import name 'JsonOutputParser' from 'langchain.output_parsers' (/opt/miniconda3/envs/test/lib/python3.13/site-packages/langchain/output_parsers/__init__.py)"
     ]
    }
   ],
   "source": [
    "#from langchain_groq import ChatGroq\n",
    "from langchain_core.prompts import ChatPromptTemplate\n",
    "from langchain.output_parsers import JsonOutputParser\n",
    "from pydantic import BaseModel, Field"
   ]
  },
  {
   "cell_type": "code",
   "execution_count": null,
   "id": "63aefa1b",
   "metadata": {},
   "outputs": [],
   "source": [
    "# Define your desired data structure.\n",
    "class Product(BaseModel):\n",
    "    Name: str = Field(description=\"Name of the product\")\n",
    "    Details: str = Field(description=\"Details about the product\")\n",
    "    Price: int = Field(description=\"Price in USD\")"
   ]
  },
  {
   "cell_type": "code",
   "execution_count": null,
   "id": "42ec7cfb",
   "metadata": {},
   "outputs": [],
   "source": [
    "\n",
    "\n",
    "# Create the output parser\n",
    "parser = JsonOutputParser(pydantic_object=Product)\n",
    "\n",
    "# Define the model\n",
    "model = ChatGroq(model=\"gemma2-9b-it\")  # Assuming this is a valid model in your environment\n",
    "\n",
    "# Define the prompt using proper template formatting\n",
    "prompt = ChatPromptTemplate.from_messages([\n",
    "    (\"system\", \"Provide the product details in JSON format.\\n{format_instructions}\"),\n",
    "    (\"user\", \"{input}\")\n",
    "]).partial(format_instructions=parser.get_format_instructions())\n",
    "\n",
    "# Create the chain\n",
    "chain = prompt | model | parser\n",
    "\n",
    "# User query\n",
    "query = \"Tell me about iPhone 15\"\n",
    "\n",
    "# Run the chain\n",
    "response = chain.invoke({\"input\": query})\n",
    "print(response)\n"
   ]
  }
 ],
 "metadata": {
  "kernelspec": {
   "display_name": "test",
   "language": "python",
   "name": "python3"
  },
  "language_info": {
   "codemirror_mode": {
    "name": "ipython",
    "version": 3
   },
   "file_extension": ".py",
   "mimetype": "text/x-python",
   "name": "python",
   "nbconvert_exporter": "python",
   "pygments_lexer": "ipython3",
   "version": "3.13.3"
  }
 },
 "nbformat": 4,
 "nbformat_minor": 5
}
