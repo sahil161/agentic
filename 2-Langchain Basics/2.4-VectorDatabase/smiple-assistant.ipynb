{
 "cells": [
  {
   "cell_type": "markdown",
   "id": "6b78fa87",
   "metadata": {},
   "source": [
    "# ***Project***\n",
    "\n",
    "---\n",
    "Create a simple assistant that uses any LLM and should be pydantic, when we ask about any product it should give you two information product Name, product details tentative price in USD(integer). Use chat prompt template and chain system.\n",
    "\n",
    "---"
   ]
  },
  {
   "cell_type": "code",
   "execution_count": 1,
   "id": "d90e1c69",
   "metadata": {},
   "outputs": [
    {
     "data": {
      "text/plain": [
       "True"
      ]
     },
     "execution_count": 1,
     "metadata": {},
     "output_type": "execute_result"
    }
   ],
   "source": [
    "from langchain_core.prompts import ChatPromptTemplate\n",
    "from langchain_core.output_parsers import PydanticOutputParser\n",
    "from IPython.display import Image, display\n",
    "import os\n",
    "from dotenv import load_dotenv\n",
    "from langchain_groq import ChatGroq\n",
    "from typing import Annotated, List\n",
    "from pydantic import BaseModel, Field\n",
    "load_dotenv()"
   ]
  },
  {
   "cell_type": "code",
   "execution_count": 2,
   "id": "739bd596",
   "metadata": {},
   "outputs": [],
   "source": [
    "groq_api_key  = os.getenv(\"GROQ_API_KEY\")\n",
    "os.environ[\"LANGCHAIN_API_KEY\"]=os.getenv(\"LANGCHAIN_API_KEY\")\n",
    "os.environ[\"LANGCHAIN_PROJECT\"]=\"Simple Chatbot\"\n",
    "os.environ[\"LANGCHAIN_TRACING_V2\"] = \"true\"\n",
    "\n",
    "model = ChatGroq(model_name=\"meta-llama/llama-4-scout-17b-16e-instruct\", groq_api_key=groq_api_key)"
   ]
  },
  {
   "cell_type": "markdown",
   "id": "b5a08267",
   "metadata": {},
   "source": [
    "## Product output schema"
   ]
  },
  {
   "cell_type": "code",
   "execution_count": 3,
   "id": "ad09b8df",
   "metadata": {},
   "outputs": [],
   "source": [
    "class ProductDetails(BaseModel):\n",
    "    \"\"\"This is product info Schema.\"\"\"\n",
    "    \n",
    "    product_name: Annotated[str, Field(description=\"This is product name.\")]\n",
    "    product_details: Annotated[List[str], Field(description=\"List of product details like Ram, Rom, processor, Camera, battery, Screen size.\")]\n",
    "    product_price: Annotated[int, Field(description=\"Product prince in USD(integer format price).\")]\n",
    "    \n",
    "parser = PydanticOutputParser(pydantic_object=ProductDetails)"
   ]
  },
  {
   "cell_type": "markdown",
   "id": "08baadd7",
   "metadata": {},
   "source": [
    "## System messages and ChatPromptTemplate"
   ]
  },
  {
   "cell_type": "code",
   "execution_count": 4,
   "id": "b2c2d0e3",
   "metadata": {},
   "outputs": [],
   "source": [
    "system_messages = \"\"\"\n",
    "    Think you are a tech expert. Your task is user will give a phone name and you will be provide a Structured output based on the {format_instruction} schema.\n",
    "    1. product name which user will be give you.\n",
    "    2. product details like Ram, Rom, processor, Camera, battery, Screen size and other which is necessary.\n",
    "    3. product tentative price in USD format. must in USD integer format.\n",
    "\"\"\""
   ]
  },
  {
   "cell_type": "code",
   "execution_count": 5,
   "id": "5d783b00",
   "metadata": {},
   "outputs": [],
   "source": [
    "chat_prompt = ChatPromptTemplate.from_messages(\n",
    "    [\n",
    "        (\"system\", system_messages),\n",
    "        (\"human\", \"{input}\")\n",
    "    ]\n",
    ").partial(format_instruction=parser.get_format_instructions())"
   ]
  },
  {
   "cell_type": "code",
   "execution_count": 6,
   "id": "61c08808",
   "metadata": {},
   "outputs": [],
   "source": [
    "chain = chat_prompt | model | parser"
   ]
  },
  {
   "cell_type": "code",
   "execution_count": 7,
   "id": "f09ffa81",
   "metadata": {},
   "outputs": [
    {
     "data": {
      "image/png": "[encoded data removed]",
      "text/plain": [
       "<IPython.core.display.Image object>"
      ]
     },
     "metadata": {},
     "output_type": "display_data"
    }
   ],
   "source": [
    "display(Image(chain.get_graph().draw_mermaid_png()))"
   ]
  },
  {
   "cell_type": "code",
   "execution_count": 8,
   "id": "d9a85f99",
   "metadata": {},
   "outputs": [
    {
     "data": {
      "text/plain": [
       "ProductDetails(product_name='Samsung S24 Ultra', product_details=['RAM: 12GB/16GB', 'ROM: 128GB/256GB/512GB/1TB', 'Processor: Qualcomm Snapdragon 8 Gen 3', 'Camera: 200MP primary sensor, 50MP front camera', 'Battery: 5000mAh', 'Screen Size: 6.8 inches Dynamic AMOLED 2X', 'Refresh Rate: 120Hz', 'Operating System: Android 14'], product_price=1199)"
      ]
     },
     "execution_count": 8,
     "metadata": {},
     "output_type": "execute_result"
    }
   ],
   "source": [
    "response = chain.invoke(\n",
    "    {\n",
    "        \"input\": \"Samsung s24 ultra\"\n",
    "    }\n",
    ")\n",
    "response"
   ]
  },
  {
   "cell_type": "code",
   "execution_count": 9,
   "id": "3716ca97",
   "metadata": {},
   "outputs": [
    {
     "data": {
      "text/plain": [
       "{'product_name': 'Samsung S24 Ultra',\n",
       " 'product_details': ['RAM: 12GB/16GB',\n",
       "  'ROM: 128GB/256GB/512GB/1TB',\n",
       "  'Processor: Qualcomm Snapdragon 8 Gen 3',\n",
       "  'Camera: 200MP primary sensor, 50MP front camera',\n",
       "  'Battery: 5000mAh',\n",
       "  'Screen Size: 6.8 inches Dynamic AMOLED 2X',\n",
       "  'Refresh Rate: 120Hz',\n",
       "  'Operating System: Android 14'],\n",
       " 'product_price': 1199}"
      ]
     },
     "execution_count": 9,
     "metadata": {},
     "output_type": "execute_result"
    }
   ],
   "source": [
    "response.model_dump()"
   ]
  },
  {
   "cell_type": "code",
   "execution_count": 10,
   "id": "8f053f3c",
   "metadata": {},
   "outputs": [
    {
     "data": {
      "text/plain": [
       "['RAM: 12GB/16GB',\n",
       " 'ROM: 128GB/256GB/512GB/1TB',\n",
       " 'Processor: Qualcomm Snapdragon 8 Gen 3',\n",
       " 'Camera: 200MP primary sensor, 50MP front camera',\n",
       " 'Battery: 5000mAh',\n",
       " 'Screen Size: 6.8 inches Dynamic AMOLED 2X',\n",
       " 'Refresh Rate: 120Hz',\n",
       " 'Operating System: Android 14']"
      ]
     },
     "execution_count": 10,
     "metadata": {},
     "output_type": "execute_result"
    }
   ],
   "source": [
    "response.product_details"
   ]
  },
  {
   "cell_type": "code",
   "execution_count": 11,
   "id": "471a9877",
   "metadata": {},
   "outputs": [
    {
     "data": {
      "text/plain": [
       "1199"
      ]
     },
     "execution_count": 11,
     "metadata": {},
     "output_type": "execute_result"
    }
   ],
   "source": [
    "response.product_price"
   ]
  }
 ],
 "metadata": {
  "kernelspec": {
   "display_name": "test",
   "language": "python",
   "name": "python3"
  },
  "language_info": {
   "codemirror_mode": {
    "name": "ipython",
    "version": 3
   },
   "file_extension": ".py",
   "mimetype": "text/x-python",
   "name": "python",
   "nbconvert_exporter": "python",
   "pygments_lexer": "ipython3",
   "version": "3.13.3"
  }
 },
 "nbformat": 4,
 "nbformat_minor": 5
}
